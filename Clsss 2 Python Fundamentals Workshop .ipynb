{
 "cells": [
  {
   "cell_type": "code",
   "execution_count": 5,
   "id": "3399e3c4-dc4c-482c-8a53-2e4be9a5a0b7",
   "metadata": {},
   "outputs": [
    {
     "data": {
      "text/plain": [
       "'Shkib Basunia   '"
      ]
     },
     "execution_count": 5,
     "metadata": {},
     "output_type": "execute_result"
    }
   ],
   "source": [
    "string='  Shkib Basunia   '\n",
    "string.lstrip()"
   ]
  },
  {
   "cell_type": "code",
   "execution_count": 13,
   "id": "566773d6-2a82-417c-937a-9be9d38ab921",
   "metadata": {},
   "outputs": [
    {
     "data": {
      "text/plain": [
       "'PPShkibPBasuniaPPP'"
      ]
     },
     "execution_count": 13,
     "metadata": {},
     "output_type": "execute_result"
    }
   ],
   "source": [
    "string='  Shkib Basunia   '\n",
    "string.rstrip()\n",
    "string.replace(\" \", \"P\")"
   ]
  },
  {
   "cell_type": "code",
   "execution_count": null,
   "id": "412ae720-ae2a-448d-b1b6-adaab649add3",
   "metadata": {},
   "outputs": [],
   "source": []
  },
  {
   "cell_type": "code",
   "execution_count": null,
   "id": "c8d66c95-a5e2-41a3-b386-ce467a042e9f",
   "metadata": {},
   "outputs": [],
   "source": []
  },
  {
   "cell_type": "code",
   "execution_count": null,
   "id": "fae3a765-3598-422e-a439-0003e565712f",
   "metadata": {},
   "outputs": [],
   "source": [
    "mnjk"
   ]
  }
 ],
 "metadata": {
  "kernelspec": {
   "display_name": "Python 3 (ipykernel)",
   "language": "python",
   "name": "python3"
  },
  "language_info": {
   "codemirror_mode": {
    "name": "ipython",
    "version": 3
   },
   "file_extension": ".py",
   "mimetype": "text/x-python",
   "name": "python",
   "nbconvert_exporter": "python",
   "pygments_lexer": "ipython3",
   "version": "3.12.4"
  }
 },
 "nbformat": 4,
 "nbformat_minor": 5
}
